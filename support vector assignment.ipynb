{
 "cells": [
  {
   "cell_type": "markdown",
   "id": "73457e46-9027-48da-9204-9783a65f4a14",
   "metadata": {},
   "source": [
    "Q1 In order tp predict house price based on several characteristics , such as location ,square footage, number of betrooms ,etc, you are developing an SVM regresson model .which regression matric in this situation would be the best to employ?"
   ]
  },
  {
   "cell_type": "markdown",
   "id": "0a69ac92-0ba9-4d14-b826-ead61471bb78",
   "metadata": {},
   "source": [
    "Ans:The RMSE metric is useful in scenarios where the prediction errors need to be penalized more heavily than the MAE or MSE. In the case of predicting house prices, it is important to minimize prediction errors as much as possible, and RMSE is the most appropriate metric to measure the average magnitude of the errors.\n",
    "\n",
    "Additionally, the RMSE metric has the added benefit of being easily interpretable, as it is expressed in the same units as the target variable (in this case, the house price). Therefore, it is easier to understand the magnitude of the error in the context of the problem domain."
   ]
  },
  {
   "cell_type": "markdown",
   "id": "7760c975-a80e-4f91-9e7a-c8447be29712",
   "metadata": {},
   "source": [
    "Q2 You have built an SVM regression model and are trying to decide between using MSE or R-squared as your evaluation metric. Which metric would be more appropriate if your goal is to predict the actual price of a house as accurately as possible?"
   ]
  },
  {
   "cell_type": "markdown",
   "id": "9b203ee1-fc34-41b5-82d8-4c77e2062e60",
   "metadata": {},
   "source": [
    "Ans: MSE is a common evaluation metric for regression tasks, and it measures the average squared difference between the predicted and actual values. In the context of predicting house prices, minimizing the MSE means that your model will be able to predict the actual price of a house more accurately on average.\n",
    "\n",
    "R-squared measures the proportion of the variance in the target variable that is explained by the model. While R-squared is a useful metric to evaluate the overall goodness of fit of the model, it may not directly correspond to the accuracy of individual predictions. In other words, a high R-squared value does not necessarily mean that the model is making accurate predictions.\n",
    "\n",
    "Therefore, if your goal is to predict the actual price of a house as accurately as possible, then MSE would be the more appropriate evaluation metric to use with your SVM regression model."
   ]
  },
  {
   "cell_type": "markdown",
   "id": "81989235-00d3-472e-b3c8-fa405d8ac22d",
   "metadata": {},
   "source": [
    "Q3 You have a dataset with a significant number of outliers and are trying to select an appropriate regression metric to use with your SVM model. Which metric would be the most appropriate in this scenario?\n",
    "\n"
   ]
  },
  {
   "cell_type": "markdown",
   "id": "bceb35d0-522a-4935-95f0-1cc418343df7",
   "metadata": {},
   "source": [
    "Ans: In the given scenario, the most appropriate regression metric to use would be the Mean Absolute Error (MAE). MAE is less sensitive to outliers because it measures the average absolute difference between the predicted and actual values, rather than the average squared difference. This makes it more robust to outliers, as the absolute value of the difference between an outlier and the actual value is the same as the absolute value of the difference between a non-outlier and the actual value."
   ]
  },
  {
   "cell_type": "markdown",
   "id": "3d0ae811-43ba-4942-9860-26c52facb92f",
   "metadata": {},
   "source": [
    "Q4You have built an SVM regression model using a polynomial kernel and are trying to select the best metric to evaluate its performance. You have calculated both MSE and RMSE and found that both values are very close. Which metric should you choose to use in this case?"
   ]
  },
  {
   "cell_type": "markdown",
   "id": "c929bd99-abbd-4dcf-a539-e65ac825624d",
   "metadata": {},
   "source": [
    "Ans: If we have calculated both MSE and RMSE and found that both values are very close, it is generally safe to use either metric to evaluate the performance of your SVM regression model. However, if we want to choose only one metric, it is generally recommended to use RMSE, as it is more interpretable than MSE. RMSE is expressed in the same units as the target variable, which makes it easier to interpret the magnitude of the error in the context of the problem domain. Therefore, in this case, RMSE would be the better metric to choose to evaluate the performance of your SVM regression model."
   ]
  },
  {
   "cell_type": "markdown",
   "id": "15b386ac-fd90-40cf-8c23-df1e3dd6f6be",
   "metadata": {},
   "source": [
    "Q5 You are comparing the performance of different SVM regression models using different kernels (linear, polynomial, and RBF) and are trying to select the best evaluation metric. Which metric would be most appropriate if your goal is to measure how well the model explains the variance in the target variable?\n",
    "\n"
   ]
  },
  {
   "cell_type": "markdown",
   "id": "31b89338-c55c-4746-88f5-6e34d0638cef",
   "metadata": {},
   "source": [
    "Ans: If your goal is to measure how well the SVM regression model explains the variance in the target variable, then the most appropriate evaluation metric to use is the coefficient of determination, also known as R-squared.\n",
    "\n",
    "R-squared measures the proportion of the variance in the target variable that is explained by the model. It ranges from 0 to 1, with a higher value indicating a better fit between the predicted and actual values. R-squared is a useful metric for comparing the performance of different models, as it provides an overall measure of how well each model explains the variance in the target variable."
   ]
  },
  {
   "cell_type": "code",
   "execution_count": null,
   "id": "4683ed3b-1e87-4243-a5a3-fcacb38b41eb",
   "metadata": {},
   "outputs": [],
   "source": []
  }
 ],
 "metadata": {
  "kernelspec": {
   "display_name": "Python 3 (ipykernel)",
   "language": "python",
   "name": "python3"
  },
  "language_info": {
   "codemirror_mode": {
    "name": "ipython",
    "version": 3
   },
   "file_extension": ".py",
   "mimetype": "text/x-python",
   "name": "python",
   "nbconvert_exporter": "python",
   "pygments_lexer": "ipython3",
   "version": "3.10.8"
  }
 },
 "nbformat": 4,
 "nbformat_minor": 5
}
